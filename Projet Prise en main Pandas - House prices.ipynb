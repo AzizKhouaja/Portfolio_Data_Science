{
 "cells": [
  {
   "cell_type": "markdown",
   "metadata": {},
   "source": [
    "# Projet"
   ]
  },
  {
   "cell_type": "code",
   "execution_count": 1,
   "metadata": {},
   "outputs": [],
   "source": [
    "import pandas as pd\n",
    "import numpy as np"
   ]
  },
  {
   "cell_type": "markdown",
   "metadata": {},
   "source": [
    "Téléchargez les trois fichiers “superficie.csv” / “nombre_de_sdb.csv” / “nombre_de_chambres.csv”\n",
    "\n",
    "Importez les trois datasets\n",
    "\n",
    "Donnez un nom de colonne à ces trois datasets\n",
    "\n",
    "Fusionner ces trois datasets un seul dataframe (on fera une fusion simplement par index) qu’on nommera dataset"
   ]
  },
  {
   "cell_type": "code",
   "execution_count": 2,
   "metadata": {},
   "outputs": [],
   "source": [
    "superficie=pd.read_csv(\"superficie.csv\",header=None)"
   ]
  },
  {
   "cell_type": "code",
   "execution_count": 3,
   "metadata": {},
   "outputs": [],
   "source": [
    "nombre_de_sdb=pd.read_csv(\"nombre_de_sdb.csv\",header=None)"
   ]
  },
  {
   "cell_type": "code",
   "execution_count": 4,
   "metadata": {},
   "outputs": [],
   "source": [
    "nombre_de_chambres=pd.read_csv(\"nombre_de_chambres.csv\",header=None)"
   ]
  },
  {
   "cell_type": "code",
   "execution_count": 5,
   "metadata": {},
   "outputs": [],
   "source": [
    "superficie=superficie.rename(columns={0:\"id\",1:\"superficie\"})\n",
    "nombre_de_sdb=nombre_de_sdb.rename(columns={0:\"id\",1:\"nombre_de_sdb\"})\n",
    "nombre_de_chambres=nombre_de_chambres.rename(columns={0:\"id\",1:\"nombre_de_chambres\"})"
   ]
  },
  {
   "cell_type": "code",
   "execution_count": 6,
   "metadata": {},
   "outputs": [
    {
     "name": "stdout",
     "output_type": "stream",
     "text": [
      "Superficie : \n",
      "    id  superficie\n",
      "0   0       28844\n",
      "1   1       27667\n",
      "2   2       14742\n",
      "3   3       28089\n",
      "4   4       11713 \n",
      " Nombre de sdb : \n",
      "    id  nombre_de_sdb\n",
      "0   0              2\n",
      "1   1              1\n",
      "2   2              1\n",
      "3   3              3\n",
      "4   4              1 \n",
      " Nombre de chambres \n",
      "    id  nombre_de_chambres\n",
      "0   0                   1\n",
      "1   1                   4\n",
      "2   2                   1\n",
      "3   3                   4\n",
      "4   4                   2\n"
     ]
    }
   ],
   "source": [
    "print(\"Superficie : \\n {} \\n Nombre de sdb : \\n {} \\n Nombre de chambres \\n {}\".format(superficie.head(),nombre_de_sdb.head(),nombre_de_chambres.head()))"
   ]
  },
  {
   "cell_type": "code",
   "execution_count": 7,
   "metadata": {},
   "outputs": [],
   "source": [
    "dataset=nombre_de_chambres.join(nombre_de_sdb.set_index(\"id\"),on=\"id\")"
   ]
  },
  {
   "cell_type": "code",
   "execution_count": 8,
   "metadata": {},
   "outputs": [],
   "source": [
    "dataset=dataset.join(superficie.set_index(\"id\"),on=\"id\")"
   ]
  },
  {
   "cell_type": "code",
   "execution_count": 9,
   "metadata": {},
   "outputs": [
    {
     "data": {
      "text/html": [
       "<div>\n",
       "<style scoped>\n",
       "    .dataframe tbody tr th:only-of-type {\n",
       "        vertical-align: middle;\n",
       "    }\n",
       "\n",
       "    .dataframe tbody tr th {\n",
       "        vertical-align: top;\n",
       "    }\n",
       "\n",
       "    .dataframe thead th {\n",
       "        text-align: right;\n",
       "    }\n",
       "</style>\n",
       "<table border=\"1\" class=\"dataframe\">\n",
       "  <thead>\n",
       "    <tr style=\"text-align: right;\">\n",
       "      <th></th>\n",
       "      <th>id</th>\n",
       "      <th>nombre_de_chambres</th>\n",
       "      <th>nombre_de_sdb</th>\n",
       "      <th>superficie</th>\n",
       "    </tr>\n",
       "  </thead>\n",
       "  <tbody>\n",
       "    <tr>\n",
       "      <th>0</th>\n",
       "      <td>0</td>\n",
       "      <td>1</td>\n",
       "      <td>2</td>\n",
       "      <td>28844</td>\n",
       "    </tr>\n",
       "    <tr>\n",
       "      <th>1</th>\n",
       "      <td>1</td>\n",
       "      <td>4</td>\n",
       "      <td>1</td>\n",
       "      <td>27667</td>\n",
       "    </tr>\n",
       "    <tr>\n",
       "      <th>2</th>\n",
       "      <td>2</td>\n",
       "      <td>1</td>\n",
       "      <td>1</td>\n",
       "      <td>14742</td>\n",
       "    </tr>\n",
       "    <tr>\n",
       "      <th>3</th>\n",
       "      <td>3</td>\n",
       "      <td>4</td>\n",
       "      <td>3</td>\n",
       "      <td>28089</td>\n",
       "    </tr>\n",
       "    <tr>\n",
       "      <th>4</th>\n",
       "      <td>4</td>\n",
       "      <td>2</td>\n",
       "      <td>1</td>\n",
       "      <td>11713</td>\n",
       "    </tr>\n",
       "  </tbody>\n",
       "</table>\n",
       "</div>"
      ],
      "text/plain": [
       "   id  nombre_de_chambres  nombre_de_sdb  superficie\n",
       "0   0                   1              2       28844\n",
       "1   1                   4              1       27667\n",
       "2   2                   1              1       14742\n",
       "3   3                   4              3       28089\n",
       "4   4                   2              1       11713"
      ]
     },
     "execution_count": 9,
     "metadata": {},
     "output_type": "execute_result"
    }
   ],
   "source": [
    "dataset.head()"
   ]
  },
  {
   "cell_type": "markdown",
   "metadata": {},
   "source": [
    "Quelle est la superficie moyenne des maisons de notre dataset ?"
   ]
  },
  {
   "cell_type": "code",
   "execution_count": 10,
   "metadata": {},
   "outputs": [
    {
     "data": {
      "text/plain": [
       "20439.77"
      ]
     },
     "execution_count": 10,
     "metadata": {},
     "output_type": "execute_result"
    }
   ],
   "source": [
    "dataset.superficie.mean()"
   ]
  },
  {
   "cell_type": "markdown",
   "metadata": {},
   "source": [
    "Quelle est le nombre de chambre médian et moyenne ?\n"
   ]
  },
  {
   "cell_type": "code",
   "execution_count": 11,
   "metadata": {},
   "outputs": [
    {
     "data": {
      "text/plain": [
       "2.42"
      ]
     },
     "execution_count": 11,
     "metadata": {},
     "output_type": "execute_result"
    }
   ],
   "source": [
    "dataset.nombre_de_chambres.mean()"
   ]
  },
  {
   "cell_type": "code",
   "execution_count": 12,
   "metadata": {},
   "outputs": [
    {
     "data": {
      "text/plain": [
       "2.0"
      ]
     },
     "execution_count": 12,
     "metadata": {},
     "output_type": "execute_result"
    }
   ],
   "source": [
    "dataset.nombre_de_chambres.median()"
   ]
  },
  {
   "cell_type": "markdown",
   "metadata": {},
   "source": [
    "Nous un nouveau dataset “house_price.csv” que nous voudrions intégrer à notre dataset \n",
    "\n",
    "Cette fois nous voudrions fusionner les index avec les id du dataset.\n",
    "\n",
    "Importez house_price.csv dans une variable qu’on nommera house_price\n",
    "\n",
    "Créez un id pour dataset qui sera égal à l’index de dataset\n",
    "\n",
    "Fusionnez house_price à dataset "
   ]
  },
  {
   "cell_type": "code",
   "execution_count": 13,
   "metadata": {},
   "outputs": [],
   "source": [
    "house_price=pd.read_csv(\"house_price.csv\")"
   ]
  },
  {
   "cell_type": "code",
   "execution_count": 14,
   "metadata": {},
   "outputs": [
    {
     "name": "stdout",
     "output_type": "stream",
     "text": [
      "<class 'pandas.core.frame.DataFrame'>\n",
      "RangeIndex: 100 entries, 0 to 99\n",
      "Data columns (total 3 columns):\n",
      "Unnamed: 0     100 non-null int64\n",
      "id             100 non-null int64\n",
      "house_price    100 non-null float64\n",
      "dtypes: float64(1), int64(2)\n",
      "memory usage: 2.4 KB\n"
     ]
    }
   ],
   "source": [
    "house_price.info()"
   ]
  },
  {
   "cell_type": "code",
   "execution_count": 15,
   "metadata": {},
   "outputs": [
    {
     "data": {
      "text/html": [
       "<div>\n",
       "<style scoped>\n",
       "    .dataframe tbody tr th:only-of-type {\n",
       "        vertical-align: middle;\n",
       "    }\n",
       "\n",
       "    .dataframe tbody tr th {\n",
       "        vertical-align: top;\n",
       "    }\n",
       "\n",
       "    .dataframe thead th {\n",
       "        text-align: right;\n",
       "    }\n",
       "</style>\n",
       "<table border=\"1\" class=\"dataframe\">\n",
       "  <thead>\n",
       "    <tr style=\"text-align: right;\">\n",
       "      <th></th>\n",
       "      <th>Unnamed: 0</th>\n",
       "      <th>id</th>\n",
       "      <th>house_price</th>\n",
       "    </tr>\n",
       "  </thead>\n",
       "  <tbody>\n",
       "    <tr>\n",
       "      <th>0</th>\n",
       "      <td>0</td>\n",
       "      <td>14</td>\n",
       "      <td>1918154.0</td>\n",
       "    </tr>\n",
       "    <tr>\n",
       "      <th>1</th>\n",
       "      <td>1</td>\n",
       "      <td>30</td>\n",
       "      <td>739142.0</td>\n",
       "    </tr>\n",
       "    <tr>\n",
       "      <th>2</th>\n",
       "      <td>2</td>\n",
       "      <td>70</td>\n",
       "      <td>1621938.0</td>\n",
       "    </tr>\n",
       "    <tr>\n",
       "      <th>3</th>\n",
       "      <td>3</td>\n",
       "      <td>77</td>\n",
       "      <td>1319862.0</td>\n",
       "    </tr>\n",
       "    <tr>\n",
       "      <th>4</th>\n",
       "      <td>4</td>\n",
       "      <td>50</td>\n",
       "      <td>146250.0</td>\n",
       "    </tr>\n",
       "  </tbody>\n",
       "</table>\n",
       "</div>"
      ],
      "text/plain": [
       "   Unnamed: 0  id  house_price\n",
       "0           0  14    1918154.0\n",
       "1           1  30     739142.0\n",
       "2           2  70    1621938.0\n",
       "3           3  77    1319862.0\n",
       "4           4  50     146250.0"
      ]
     },
     "execution_count": 15,
     "metadata": {},
     "output_type": "execute_result"
    }
   ],
   "source": [
    "house_price.head()"
   ]
  },
  {
   "cell_type": "code",
   "execution_count": 16,
   "metadata": {},
   "outputs": [],
   "source": [
    "dataset=dataset.join(house_price.set_index(\"id\"),on=\"id\")"
   ]
  },
  {
   "cell_type": "code",
   "execution_count": 17,
   "metadata": {},
   "outputs": [
    {
     "data": {
      "text/html": [
       "<div>\n",
       "<style scoped>\n",
       "    .dataframe tbody tr th:only-of-type {\n",
       "        vertical-align: middle;\n",
       "    }\n",
       "\n",
       "    .dataframe tbody tr th {\n",
       "        vertical-align: top;\n",
       "    }\n",
       "\n",
       "    .dataframe thead th {\n",
       "        text-align: right;\n",
       "    }\n",
       "</style>\n",
       "<table border=\"1\" class=\"dataframe\">\n",
       "  <thead>\n",
       "    <tr style=\"text-align: right;\">\n",
       "      <th></th>\n",
       "      <th>id</th>\n",
       "      <th>nombre_de_chambres</th>\n",
       "      <th>nombre_de_sdb</th>\n",
       "      <th>superficie</th>\n",
       "      <th>Unnamed: 0</th>\n",
       "      <th>house_price</th>\n",
       "    </tr>\n",
       "  </thead>\n",
       "  <tbody>\n",
       "    <tr>\n",
       "      <th>0</th>\n",
       "      <td>0</td>\n",
       "      <td>1</td>\n",
       "      <td>2</td>\n",
       "      <td>28844</td>\n",
       "      <td>32</td>\n",
       "      <td>1421908.0</td>\n",
       "    </tr>\n",
       "    <tr>\n",
       "      <th>1</th>\n",
       "      <td>1</td>\n",
       "      <td>4</td>\n",
       "      <td>1</td>\n",
       "      <td>27667</td>\n",
       "      <td>71</td>\n",
       "      <td>1305091.0</td>\n",
       "    </tr>\n",
       "    <tr>\n",
       "      <th>2</th>\n",
       "      <td>2</td>\n",
       "      <td>1</td>\n",
       "      <td>1</td>\n",
       "      <td>14742</td>\n",
       "      <td>65</td>\n",
       "      <td>164373.0</td>\n",
       "    </tr>\n",
       "    <tr>\n",
       "      <th>3</th>\n",
       "      <td>3</td>\n",
       "      <td>4</td>\n",
       "      <td>3</td>\n",
       "      <td>28089</td>\n",
       "      <td>88</td>\n",
       "      <td>1441714.0</td>\n",
       "    </tr>\n",
       "    <tr>\n",
       "      <th>4</th>\n",
       "      <td>4</td>\n",
       "      <td>2</td>\n",
       "      <td>1</td>\n",
       "      <td>11713</td>\n",
       "      <td>49</td>\n",
       "      <td>108290.0</td>\n",
       "    </tr>\n",
       "  </tbody>\n",
       "</table>\n",
       "</div>"
      ],
      "text/plain": [
       "   id  nombre_de_chambres  nombre_de_sdb  superficie  Unnamed: 0  house_price\n",
       "0   0                   1              2       28844          32    1421908.0\n",
       "1   1                   4              1       27667          71    1305091.0\n",
       "2   2                   1              1       14742          65     164373.0\n",
       "3   3                   4              3       28089          88    1441714.0\n",
       "4   4                   2              1       11713          49     108290.0"
      ]
     },
     "execution_count": 17,
     "metadata": {},
     "output_type": "execute_result"
    }
   ],
   "source": [
    "dataset.head()"
   ]
  },
  {
   "cell_type": "code",
   "execution_count": 18,
   "metadata": {},
   "outputs": [],
   "source": [
    "dataset= dataset.drop([\"Unnamed: 0\"],axis=1)"
   ]
  },
  {
   "cell_type": "code",
   "execution_count": 19,
   "metadata": {},
   "outputs": [
    {
     "data": {
      "text/html": [
       "<div>\n",
       "<style scoped>\n",
       "    .dataframe tbody tr th:only-of-type {\n",
       "        vertical-align: middle;\n",
       "    }\n",
       "\n",
       "    .dataframe tbody tr th {\n",
       "        vertical-align: top;\n",
       "    }\n",
       "\n",
       "    .dataframe thead th {\n",
       "        text-align: right;\n",
       "    }\n",
       "</style>\n",
       "<table border=\"1\" class=\"dataframe\">\n",
       "  <thead>\n",
       "    <tr style=\"text-align: right;\">\n",
       "      <th></th>\n",
       "      <th>id</th>\n",
       "      <th>nombre_de_chambres</th>\n",
       "      <th>nombre_de_sdb</th>\n",
       "      <th>superficie</th>\n",
       "      <th>house_price</th>\n",
       "    </tr>\n",
       "  </thead>\n",
       "  <tbody>\n",
       "    <tr>\n",
       "      <th>0</th>\n",
       "      <td>0</td>\n",
       "      <td>1</td>\n",
       "      <td>2</td>\n",
       "      <td>28844</td>\n",
       "      <td>1421908.0</td>\n",
       "    </tr>\n",
       "    <tr>\n",
       "      <th>1</th>\n",
       "      <td>1</td>\n",
       "      <td>4</td>\n",
       "      <td>1</td>\n",
       "      <td>27667</td>\n",
       "      <td>1305091.0</td>\n",
       "    </tr>\n",
       "    <tr>\n",
       "      <th>2</th>\n",
       "      <td>2</td>\n",
       "      <td>1</td>\n",
       "      <td>1</td>\n",
       "      <td>14742</td>\n",
       "      <td>164373.0</td>\n",
       "    </tr>\n",
       "    <tr>\n",
       "      <th>3</th>\n",
       "      <td>3</td>\n",
       "      <td>4</td>\n",
       "      <td>3</td>\n",
       "      <td>28089</td>\n",
       "      <td>1441714.0</td>\n",
       "    </tr>\n",
       "    <tr>\n",
       "      <th>4</th>\n",
       "      <td>4</td>\n",
       "      <td>2</td>\n",
       "      <td>1</td>\n",
       "      <td>11713</td>\n",
       "      <td>108290.0</td>\n",
       "    </tr>\n",
       "  </tbody>\n",
       "</table>\n",
       "</div>"
      ],
      "text/plain": [
       "   id  nombre_de_chambres  nombre_de_sdb  superficie  house_price\n",
       "0   0                   1              2       28844    1421908.0\n",
       "1   1                   4              1       27667    1305091.0\n",
       "2   2                   1              1       14742     164373.0\n",
       "3   3                   4              3       28089    1441714.0\n",
       "4   4                   2              1       11713     108290.0"
      ]
     },
     "execution_count": 19,
     "metadata": {},
     "output_type": "execute_result"
    }
   ],
   "source": [
    "dataset.head()"
   ]
  },
  {
   "cell_type": "code",
   "execution_count": 20,
   "metadata": {},
   "outputs": [],
   "source": [
    "pd.options.display.float_format = '{:.2f}'.format"
   ]
  },
  {
   "cell_type": "markdown",
   "metadata": {},
   "source": [
    "Quel est le coût moyen d’une maison ?\n",
    "\n",
    "Quel est le coût moyen par chambre ?\n"
   ]
  },
  {
   "cell_type": "code",
   "execution_count": 21,
   "metadata": {
    "scrolled": true
   },
   "outputs": [
    {
     "data": {
      "text/plain": [
       "767747.87"
      ]
     },
     "execution_count": 21,
     "metadata": {},
     "output_type": "execute_result"
    }
   ],
   "source": [
    "dataset.house_price.mean()"
   ]
  },
  {
   "cell_type": "code",
   "execution_count": 22,
   "metadata": {},
   "outputs": [
    {
     "data": {
      "text/plain": [
       "425415.17083333334"
      ]
     },
     "execution_count": 22,
     "metadata": {},
     "output_type": "execute_result"
    }
   ],
   "source": [
    "((dataset.house_price)/(dataset.nombre_de_chambres)).mean()"
   ]
  },
  {
   "cell_type": "code",
   "execution_count": 23,
   "metadata": {},
   "outputs": [
    {
     "data": {
      "text/html": [
       "<div>\n",
       "<style scoped>\n",
       "    .dataframe tbody tr th:only-of-type {\n",
       "        vertical-align: middle;\n",
       "    }\n",
       "\n",
       "    .dataframe tbody tr th {\n",
       "        vertical-align: top;\n",
       "    }\n",
       "\n",
       "    .dataframe thead th {\n",
       "        text-align: right;\n",
       "    }\n",
       "</style>\n",
       "<table border=\"1\" class=\"dataframe\">\n",
       "  <thead>\n",
       "    <tr style=\"text-align: right;\">\n",
       "      <th></th>\n",
       "      <th>id</th>\n",
       "      <th>nombre_de_sdb</th>\n",
       "      <th>superficie</th>\n",
       "      <th>house_price</th>\n",
       "    </tr>\n",
       "    <tr>\n",
       "      <th>nombre_de_chambres</th>\n",
       "      <th></th>\n",
       "      <th></th>\n",
       "      <th></th>\n",
       "      <th></th>\n",
       "    </tr>\n",
       "  </thead>\n",
       "  <tbody>\n",
       "    <tr>\n",
       "      <th>1</th>\n",
       "      <td>52.26</td>\n",
       "      <td>1.87</td>\n",
       "      <td>22798.70</td>\n",
       "      <td>980774.87</td>\n",
       "    </tr>\n",
       "    <tr>\n",
       "      <th>2</th>\n",
       "      <td>57.39</td>\n",
       "      <td>2.00</td>\n",
       "      <td>19001.48</td>\n",
       "      <td>642086.26</td>\n",
       "    </tr>\n",
       "    <tr>\n",
       "      <th>3</th>\n",
       "      <td>44.56</td>\n",
       "      <td>2.04</td>\n",
       "      <td>19538.04</td>\n",
       "      <td>645904.59</td>\n",
       "    </tr>\n",
       "    <tr>\n",
       "      <th>4</th>\n",
       "      <td>40.32</td>\n",
       "      <td>1.89</td>\n",
       "      <td>21212.32</td>\n",
       "      <td>888045.63</td>\n",
       "    </tr>\n",
       "  </tbody>\n",
       "</table>\n",
       "</div>"
      ],
      "text/plain": [
       "                      id  nombre_de_sdb  superficie  house_price\n",
       "nombre_de_chambres                                              \n",
       "1                  52.26           1.87    22798.70    980774.87\n",
       "2                  57.39           2.00    19001.48    642086.26\n",
       "3                  44.56           2.04    19538.04    645904.59\n",
       "4                  40.32           1.89    21212.32    888045.63"
      ]
     },
     "execution_count": 23,
     "metadata": {},
     "output_type": "execute_result"
    }
   ],
   "source": [
    "dataset.groupby(\"nombre_de_chambres\").mean()"
   ]
  },
  {
   "cell_type": "markdown",
   "metadata": {},
   "source": [
    " Le coût moyen par chambre ne nous apprend pas grand chose.\n",
    " \n",
    "Tentons de faire des catégories de superficie\n",
    "\n",
    "Créez une nouvelle colonne dans votre dataset qu’on appellera taille_maison\n",
    "\n",
    "Créez trois catégories “très grande” / “grande” / “moyenne” / “petite” / “très petite” qui respectivement correspondront à :\n",
    "\n",
    "    “une maison dont la taille est supérieure à 25 000 sqrt_feet”\n",
    "     “une maison dont la taille est comprise entre 20 000 et 25 000 sqrt_feet”\n",
    "    “une maison dont la taille est comprise entre 15 000 et 20 000 sqrt_feet”\n",
    "     “une maison dont la taille est comprise entre 10 000 et 15 000 sqrt_feet” \n",
    "    “une maison dont la taille est inférieure à 10 000 sqrt_feet”\n",
    "\n",
    "Remplissez les lignes correspondantes dans la colonne taille_maison"
   ]
  },
  {
   "cell_type": "code",
   "execution_count": 24,
   "metadata": {},
   "outputs": [],
   "source": [
    "dataset[\"taille_maison\"]=0"
   ]
  },
  {
   "cell_type": "code",
   "execution_count": 25,
   "metadata": {},
   "outputs": [],
   "source": [
    "for i in range(0,len(dataset)):\n",
    "    if dataset.iloc[i,3]>25000:\n",
    "        dataset.iloc[i,5]=\"Très Grande\"\n",
    "    elif dataset.iloc[i,3] in range(20000,25000):\n",
    "        dataset.iloc[i,5]=\"Grande\"\n",
    "    elif dataset.iloc[i,3] in range (15000,20000):\n",
    "        dataset.iloc[i,5]=\"Moyenne\"\n",
    "    elif dataset.iloc[i,3] in range (10000,15000):\n",
    "        dataset.iloc[i,5]=\"Petite\"\n",
    "    elif dataset.iloc[i,3] < 10000:\n",
    "        dataset.iloc[i,5]=\"Très Petite\"\n",
    "    "
   ]
  },
  {
   "cell_type": "code",
   "execution_count": 26,
   "metadata": {},
   "outputs": [
    {
     "data": {
      "text/html": [
       "<div>\n",
       "<style scoped>\n",
       "    .dataframe tbody tr th:only-of-type {\n",
       "        vertical-align: middle;\n",
       "    }\n",
       "\n",
       "    .dataframe tbody tr th {\n",
       "        vertical-align: top;\n",
       "    }\n",
       "\n",
       "    .dataframe thead th {\n",
       "        text-align: right;\n",
       "    }\n",
       "</style>\n",
       "<table border=\"1\" class=\"dataframe\">\n",
       "  <thead>\n",
       "    <tr style=\"text-align: right;\">\n",
       "      <th></th>\n",
       "      <th>id</th>\n",
       "      <th>nombre_de_chambres</th>\n",
       "      <th>nombre_de_sdb</th>\n",
       "      <th>superficie</th>\n",
       "      <th>house_price</th>\n",
       "      <th>taille_maison</th>\n",
       "    </tr>\n",
       "  </thead>\n",
       "  <tbody>\n",
       "    <tr>\n",
       "      <th>0</th>\n",
       "      <td>0</td>\n",
       "      <td>1</td>\n",
       "      <td>2</td>\n",
       "      <td>28844</td>\n",
       "      <td>1421908.00</td>\n",
       "      <td>Très Grande</td>\n",
       "    </tr>\n",
       "    <tr>\n",
       "      <th>1</th>\n",
       "      <td>1</td>\n",
       "      <td>4</td>\n",
       "      <td>1</td>\n",
       "      <td>27667</td>\n",
       "      <td>1305091.00</td>\n",
       "      <td>Très Grande</td>\n",
       "    </tr>\n",
       "    <tr>\n",
       "      <th>2</th>\n",
       "      <td>2</td>\n",
       "      <td>1</td>\n",
       "      <td>1</td>\n",
       "      <td>14742</td>\n",
       "      <td>164373.00</td>\n",
       "      <td>Petite</td>\n",
       "    </tr>\n",
       "    <tr>\n",
       "      <th>3</th>\n",
       "      <td>3</td>\n",
       "      <td>4</td>\n",
       "      <td>3</td>\n",
       "      <td>28089</td>\n",
       "      <td>1441714.00</td>\n",
       "      <td>Très Grande</td>\n",
       "    </tr>\n",
       "    <tr>\n",
       "      <th>4</th>\n",
       "      <td>4</td>\n",
       "      <td>2</td>\n",
       "      <td>1</td>\n",
       "      <td>11713</td>\n",
       "      <td>108290.00</td>\n",
       "      <td>Petite</td>\n",
       "    </tr>\n",
       "    <tr>\n",
       "      <th>5</th>\n",
       "      <td>5</td>\n",
       "      <td>4</td>\n",
       "      <td>3</td>\n",
       "      <td>28591</td>\n",
       "      <td>1703033.00</td>\n",
       "      <td>Très Grande</td>\n",
       "    </tr>\n",
       "    <tr>\n",
       "      <th>6</th>\n",
       "      <td>6</td>\n",
       "      <td>3</td>\n",
       "      <td>3</td>\n",
       "      <td>17385</td>\n",
       "      <td>340284.00</td>\n",
       "      <td>Moyenne</td>\n",
       "    </tr>\n",
       "    <tr>\n",
       "      <th>7</th>\n",
       "      <td>7</td>\n",
       "      <td>3</td>\n",
       "      <td>2</td>\n",
       "      <td>26197</td>\n",
       "      <td>1236645.00</td>\n",
       "      <td>Très Grande</td>\n",
       "    </tr>\n",
       "    <tr>\n",
       "      <th>8</th>\n",
       "      <td>8</td>\n",
       "      <td>3</td>\n",
       "      <td>2</td>\n",
       "      <td>17611</td>\n",
       "      <td>257405.00</td>\n",
       "      <td>Moyenne</td>\n",
       "    </tr>\n",
       "    <tr>\n",
       "      <th>9</th>\n",
       "      <td>9</td>\n",
       "      <td>3</td>\n",
       "      <td>3</td>\n",
       "      <td>12841</td>\n",
       "      <td>157433.00</td>\n",
       "      <td>Petite</td>\n",
       "    </tr>\n",
       "  </tbody>\n",
       "</table>\n",
       "</div>"
      ],
      "text/plain": [
       "   id  nombre_de_chambres  nombre_de_sdb  superficie  house_price  \\\n",
       "0   0                   1              2       28844   1421908.00   \n",
       "1   1                   4              1       27667   1305091.00   \n",
       "2   2                   1              1       14742    164373.00   \n",
       "3   3                   4              3       28089   1441714.00   \n",
       "4   4                   2              1       11713    108290.00   \n",
       "5   5                   4              3       28591   1703033.00   \n",
       "6   6                   3              3       17385    340284.00   \n",
       "7   7                   3              2       26197   1236645.00   \n",
       "8   8                   3              2       17611    257405.00   \n",
       "9   9                   3              3       12841    157433.00   \n",
       "\n",
       "  taille_maison  \n",
       "0   Très Grande  \n",
       "1   Très Grande  \n",
       "2        Petite  \n",
       "3   Très Grande  \n",
       "4        Petite  \n",
       "5   Très Grande  \n",
       "6       Moyenne  \n",
       "7   Très Grande  \n",
       "8       Moyenne  \n",
       "9        Petite  "
      ]
     },
     "execution_count": 26,
     "metadata": {},
     "output_type": "execute_result"
    }
   ],
   "source": [
    "dataset.head(10)"
   ]
  },
  {
   "cell_type": "code",
   "execution_count": 27,
   "metadata": {},
   "outputs": [
    {
     "data": {
      "text/html": [
       "<div>\n",
       "<style scoped>\n",
       "    .dataframe tbody tr th:only-of-type {\n",
       "        vertical-align: middle;\n",
       "    }\n",
       "\n",
       "    .dataframe tbody tr th {\n",
       "        vertical-align: top;\n",
       "    }\n",
       "\n",
       "    .dataframe thead th {\n",
       "        text-align: right;\n",
       "    }\n",
       "</style>\n",
       "<table border=\"1\" class=\"dataframe\">\n",
       "  <thead>\n",
       "    <tr style=\"text-align: right;\">\n",
       "      <th></th>\n",
       "      <th>id</th>\n",
       "      <th>nombre_de_chambres</th>\n",
       "      <th>nombre_de_sdb</th>\n",
       "      <th>superficie</th>\n",
       "      <th>house_price</th>\n",
       "    </tr>\n",
       "  </thead>\n",
       "  <tbody>\n",
       "    <tr>\n",
       "      <th>count</th>\n",
       "      <td>100.00</td>\n",
       "      <td>100.00</td>\n",
       "      <td>100.00</td>\n",
       "      <td>100.00</td>\n",
       "      <td>100.00</td>\n",
       "    </tr>\n",
       "    <tr>\n",
       "      <th>mean</th>\n",
       "      <td>49.50</td>\n",
       "      <td>2.42</td>\n",
       "      <td>1.96</td>\n",
       "      <td>20439.77</td>\n",
       "      <td>767747.87</td>\n",
       "    </tr>\n",
       "    <tr>\n",
       "      <th>std</th>\n",
       "      <td>29.01</td>\n",
       "      <td>1.05</td>\n",
       "      <td>0.80</td>\n",
       "      <td>6225.89</td>\n",
       "      <td>609736.23</td>\n",
       "    </tr>\n",
       "    <tr>\n",
       "      <th>min</th>\n",
       "      <td>0.00</td>\n",
       "      <td>1.00</td>\n",
       "      <td>1.00</td>\n",
       "      <td>10198.00</td>\n",
       "      <td>101448.00</td>\n",
       "    </tr>\n",
       "    <tr>\n",
       "      <th>25%</th>\n",
       "      <td>24.75</td>\n",
       "      <td>2.00</td>\n",
       "      <td>1.00</td>\n",
       "      <td>14709.75</td>\n",
       "      <td>189125.25</td>\n",
       "    </tr>\n",
       "    <tr>\n",
       "      <th>50%</th>\n",
       "      <td>49.50</td>\n",
       "      <td>2.00</td>\n",
       "      <td>2.00</td>\n",
       "      <td>20829.00</td>\n",
       "      <td>588016.50</td>\n",
       "    </tr>\n",
       "    <tr>\n",
       "      <th>75%</th>\n",
       "      <td>74.25</td>\n",
       "      <td>3.00</td>\n",
       "      <td>3.00</td>\n",
       "      <td>26125.75</td>\n",
       "      <td>1239922.75</td>\n",
       "    </tr>\n",
       "    <tr>\n",
       "      <th>max</th>\n",
       "      <td>99.00</td>\n",
       "      <td>4.00</td>\n",
       "      <td>3.00</td>\n",
       "      <td>29931.00</td>\n",
       "      <td>1992653.00</td>\n",
       "    </tr>\n",
       "  </tbody>\n",
       "</table>\n",
       "</div>"
      ],
      "text/plain": [
       "          id  nombre_de_chambres  nombre_de_sdb  superficie  house_price\n",
       "count 100.00              100.00         100.00      100.00       100.00\n",
       "mean   49.50                2.42           1.96    20439.77    767747.87\n",
       "std    29.01                1.05           0.80     6225.89    609736.23\n",
       "min     0.00                1.00           1.00    10198.00    101448.00\n",
       "25%    24.75                2.00           1.00    14709.75    189125.25\n",
       "50%    49.50                2.00           2.00    20829.00    588016.50\n",
       "75%    74.25                3.00           3.00    26125.75   1239922.75\n",
       "max    99.00                4.00           3.00    29931.00   1992653.00"
      ]
     },
     "execution_count": 27,
     "metadata": {},
     "output_type": "execute_result"
    }
   ],
   "source": [
    "dataset.describe()"
   ]
  },
  {
   "cell_type": "markdown",
   "metadata": {},
   "source": [
    "Quel est le coût moyen d’une maison en fonction de sa catégorie de superficie ?"
   ]
  },
  {
   "cell_type": "code",
   "execution_count": 28,
   "metadata": {},
   "outputs": [
    {
     "data": {
      "text/html": [
       "<div>\n",
       "<style scoped>\n",
       "    .dataframe tbody tr th:only-of-type {\n",
       "        vertical-align: middle;\n",
       "    }\n",
       "\n",
       "    .dataframe tbody tr th {\n",
       "        vertical-align: top;\n",
       "    }\n",
       "\n",
       "    .dataframe thead th {\n",
       "        text-align: right;\n",
       "    }\n",
       "</style>\n",
       "<table border=\"1\" class=\"dataframe\">\n",
       "  <thead>\n",
       "    <tr style=\"text-align: right;\">\n",
       "      <th></th>\n",
       "      <th>id</th>\n",
       "      <th>nombre_de_chambres</th>\n",
       "      <th>nombre_de_sdb</th>\n",
       "      <th>superficie</th>\n",
       "      <th>house_price</th>\n",
       "    </tr>\n",
       "    <tr>\n",
       "      <th>taille_maison</th>\n",
       "      <th></th>\n",
       "      <th></th>\n",
       "      <th></th>\n",
       "      <th></th>\n",
       "      <th></th>\n",
       "    </tr>\n",
       "  </thead>\n",
       "  <tbody>\n",
       "    <tr>\n",
       "      <th>Grande</th>\n",
       "      <td>54.83</td>\n",
       "      <td>2.26</td>\n",
       "      <td>1.87</td>\n",
       "      <td>22282.91</td>\n",
       "      <td>732538.52</td>\n",
       "    </tr>\n",
       "    <tr>\n",
       "      <th>Moyenne</th>\n",
       "      <td>54.00</td>\n",
       "      <td>2.68</td>\n",
       "      <td>1.89</td>\n",
       "      <td>17590.58</td>\n",
       "      <td>325694.79</td>\n",
       "    </tr>\n",
       "    <tr>\n",
       "      <th>Petite</th>\n",
       "      <td>50.58</td>\n",
       "      <td>2.46</td>\n",
       "      <td>1.96</td>\n",
       "      <td>12163.96</td>\n",
       "      <td>156138.69</td>\n",
       "    </tr>\n",
       "    <tr>\n",
       "      <th>Très Grande</th>\n",
       "      <td>42.12</td>\n",
       "      <td>2.34</td>\n",
       "      <td>2.06</td>\n",
       "      <td>27530.81</td>\n",
       "      <td>1552456.06</td>\n",
       "    </tr>\n",
       "  </tbody>\n",
       "</table>\n",
       "</div>"
      ],
      "text/plain": [
       "                 id  nombre_de_chambres  nombre_de_sdb  superficie  \\\n",
       "taille_maison                                                        \n",
       "Grande        54.83                2.26           1.87    22282.91   \n",
       "Moyenne       54.00                2.68           1.89    17590.58   \n",
       "Petite        50.58                2.46           1.96    12163.96   \n",
       "Très Grande   42.12                2.34           2.06    27530.81   \n",
       "\n",
       "               house_price  \n",
       "taille_maison               \n",
       "Grande           732538.52  \n",
       "Moyenne          325694.79  \n",
       "Petite           156138.69  \n",
       "Très Grande     1552456.06  "
      ]
     },
     "execution_count": 28,
     "metadata": {},
     "output_type": "execute_result"
    }
   ],
   "source": [
    "dataset.groupby(\"taille_maison\").mean()"
   ]
  },
  {
   "cell_type": "markdown",
   "metadata": {},
   "source": [
    "Visualisez vos résulats sur Seaborn"
   ]
  },
  {
   "cell_type": "code",
   "execution_count": 31,
   "metadata": {},
   "outputs": [
    {
     "data": {
      "text/plain": [
       "<seaborn.axisgrid.FacetGrid at 0x288e50f6860>"
      ]
     },
     "execution_count": 31,
     "metadata": {},
     "output_type": "execute_result"
    },
    {
     "data": {
      "image/png": "[encoded data removed]",
      "text/plain": [
       "<Figure size 457.484x360 with 1 Axes>"
      ]
     },
     "metadata": {
      "needs_background": "light"
     },
     "output_type": "display_data"
    }
   ],
   "source": [
    "import seaborn as sns\n",
    "sns.lmplot(x = \"superficie\", y=\"house_price\",hue=\"taille_maison\", data = dataset)"
   ]
  },
  {
   "cell_type": "code",
   "execution_count": 30,
   "metadata": {},
   "outputs": [
    {
     "data": {
      "text/plain": [
       "<matplotlib.axes._subplots.AxesSubplot at 0x288e6b70390>"
      ]
     },
     "execution_count": 30,
     "metadata": {},
     "output_type": "execute_result"
    },
    {
     "data": {
      "image/png": "[encoded data removed]",
      "text/plain": [
       "<Figure size 432x288 with 1 Axes>"
      ]
     },
     "metadata": {
      "needs_background": "light"
     },
     "output_type": "display_data"
    }
   ],
   "source": [
    "sns.boxplot(y=(dataset[\"house_price\"]/dataset[\"superficie\"]),data=dataset)"
   ]
  },
  {
   "cell_type": "code",
   "execution_count": null,
   "metadata": {},
   "outputs": [],
   "source": []
  }
 ],
 "metadata": {
  "kernelspec": {
   "display_name": "Python 3",
   "language": "python",
   "name": "python3"
  },
  "language_info": {
   "codemirror_mode": {
    "name": "ipython",
    "version": 3
   },
   "file_extension": ".py",
   "mimetype": "text/x-python",
   "name": "python",
   "nbconvert_exporter": "python",
   "pygments_lexer": "ipython3",
   "version": "3.7.1"
  }
 },
 "nbformat": 4,
 "nbformat_minor": 2
}
